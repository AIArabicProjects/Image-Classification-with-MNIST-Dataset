{
 "cells": [
  {
   "cell_type": "markdown",
   "metadata": {},
   "source": [
    "# Image Classification with MNIST Dataset"
   ]
  },
  {
   "cell_type": "code",
   "execution_count": null,
   "metadata": {
    "colab": {
     "base_uri": "https://localhost:8080/",
     "height": 101
    },
    "colab_type": "code",
    "executionInfo": {
     "elapsed": 8699,
     "status": "ok",
     "timestamp": 1584011701548,
     "user": {
      "displayName": "Rami Aqqad",
      "photoUrl": "https://lh3.googleusercontent.com/a-/AOh14Gj3GtOwapxOqbNzRE9cK3ppCK-KFD1gAWSWHbjECLk=s64",
      "userId": "00979300552972253678"
     },
     "user_tz": -60
    },
    "id": "icwpCsvGc_zO",
    "outputId": "bd99ee5f-e6dc-45c6-895d-8a2cd2a025a3"
   },
   "outputs": [],
   "source": [
    "import tensorflow as tf\n",
    "import matplotlib.pyplot as plt\n",
    "%matplotlib inline \n",
    "\n",
    "from keras.models import Sequential\n",
    "from keras.layers import Dense, Conv2D, Dropout, Flatten, MaxPooling2D"
   ]
  },
  {
   "cell_type": "markdown",
   "metadata": {},
   "source": [
    "### Load MNIST dataset"
   ]
  },
  {
   "cell_type": "code",
   "execution_count": null,
   "metadata": {},
   "outputs": [],
   "source": [
    "(x_train, y_train), (x_test, y_test) = tf.keras.datasets.mnist.load_data()"
   ]
  },
  {
   "cell_type": "code",
   "execution_count": null,
   "metadata": {
    "colab": {
     "base_uri": "https://localhost:8080/",
     "height": 35
    },
    "colab_type": "code",
    "executionInfo": {
     "elapsed": 820,
     "status": "ok",
     "timestamp": 1584011785582,
     "user": {
      "displayName": "Rami Aqqad",
      "photoUrl": "https://lh3.googleusercontent.com/a-/AOh14Gj3GtOwapxOqbNzRE9cK3ppCK-KFD1gAWSWHbjECLk=s64",
      "userId": "00979300552972253678"
     },
     "user_tz": -60
    },
    "id": "qoebCEKEdahL",
    "outputId": "da18677d-9e28-4c2a-9e78-5829a70f0e54"
   },
   "outputs": [],
   "source": [
    "x_train.shape"
   ]
  },
  {
   "cell_type": "markdown",
   "metadata": {},
   "source": [
    "### visualize some numbers"
   ]
  },
  {
   "cell_type": "code",
   "execution_count": null,
   "metadata": {
    "colab": {
     "base_uri": "https://localhost:8080/",
     "height": 301
    },
    "colab_type": "code",
    "executionInfo": {
     "elapsed": 822,
     "status": "ok",
     "timestamp": 1584011741932,
     "user": {
      "displayName": "Rami Aqqad",
      "photoUrl": "https://lh3.googleusercontent.com/a-/AOh14Gj3GtOwapxOqbNzRE9cK3ppCK-KFD1gAWSWHbjECLk=s64",
      "userId": "00979300552972253678"
     },
     "user_tz": -60
    },
    "id": "mQ_Odvc4dE6s",
    "outputId": "1a56b06b-a357-4cd3-cd87-9d72a2659980"
   },
   "outputs": [],
   "source": [
    "image_index = 7777 \n",
    "print(y_train[image_index]) \n",
    "plt.imshow(x_train[image_index], cmap='Greys')"
   ]
  },
  {
   "cell_type": "markdown",
   "metadata": {},
   "source": [
    "### Reshaping and Normalizing the Images"
   ]
  },
  {
   "cell_type": "code",
   "execution_count": null,
   "metadata": {},
   "outputs": [],
   "source": [
    "x_train = x_train.reshape(x_train.shape[0], 28, 28, 1)\n",
    "x_test = x_test.reshape(x_test.shape[0], 28, 28, 1)\n",
    "input_shape = (28, 28, 1)\n",
    "\n",
    "x_train = x_train.astype('float32')\n",
    "x_test = x_test.astype('float32')\n",
    "\n",
    "x_train /= 255\n",
    "x_test /= 255\n",
    "print('x_train shape:', x_train.shape)\n",
    "print('Number of images in x_train', x_train.shape[0])\n",
    "print('Number of images in x_test', x_test.shape[0])"
   ]
  },
  {
   "cell_type": "markdown",
   "metadata": {},
   "source": [
    "### Building the Model"
   ]
  },
  {
   "cell_type": "code",
   "execution_count": null,
   "metadata": {
    "colab": {
     "base_uri": "https://localhost:8080/",
     "height": 346
    },
    "colab_type": "code",
    "executionInfo": {
     "elapsed": 1182,
     "status": "ok",
     "timestamp": 1584012183367,
     "user": {
      "displayName": "Rami Aqqad",
      "photoUrl": "https://lh3.googleusercontent.com/a-/AOh14Gj3GtOwapxOqbNzRE9cK3ppCK-KFD1gAWSWHbjECLk=s64",
      "userId": "00979300552972253678"
     },
     "user_tz": -60
    },
    "id": "frjU6J7ud4EA",
    "outputId": "bcd41ea8-9844-4239-e4a7-ee91f23c29af"
   },
   "outputs": [],
   "source": [
    "model = Sequential()\n",
    "model.add(Conv2D(28, kernel_size=(3,3), input_shape=input_shape))\n",
    "model.add(MaxPooling2D(pool_size=(2, 2)))\n",
    "model.add(Flatten()) \n",
    "model.add(Dense(128, activation=tf.nn.relu))\n",
    "model.add(Dropout(0.2))\n",
    "model.add(Dense(10,activation=tf.nn.softmax))"
   ]
  },
  {
   "cell_type": "markdown",
   "metadata": {},
   "source": [
    "### Compiling and Fitting the Model"
   ]
  },
  {
   "cell_type": "code",
   "execution_count": null,
   "metadata": {
    "colab": {
     "base_uri": "https://localhost:8080/",
     "height": 837
    },
    "colab_type": "code",
    "executionInfo": {
     "elapsed": 343309,
     "status": "ok",
     "timestamp": 1584012600049,
     "user": {
      "displayName": "Rami Aqqad",
      "photoUrl": "https://lh3.googleusercontent.com/a-/AOh14Gj3GtOwapxOqbNzRE9cK3ppCK-KFD1gAWSWHbjECLk=s64",
      "userId": "00979300552972253678"
     },
     "user_tz": -60
    },
    "id": "kFrYF0pdfNt0",
    "outputId": "df7579e3-d8ab-4c9d-b41c-3b3576544cd2"
   },
   "outputs": [],
   "source": [
    "model.compile(optimizer='adam', \n",
    "              loss='sparse_categorical_crossentropy', \n",
    "              metrics=['accuracy'])\n",
    "model.fit(x=x_train,y=y_train, epochs=10)"
   ]
  },
  {
   "cell_type": "markdown",
   "metadata": {},
   "source": [
    "### Evaluating the Model"
   ]
  },
  {
   "cell_type": "code",
   "execution_count": null,
   "metadata": {
    "colab": {
     "base_uri": "https://localhost:8080/",
     "height": 54
    },
    "colab_type": "code",
    "executionInfo": {
     "elapsed": 2222,
     "status": "ok",
     "timestamp": 1584012803539,
     "user": {
      "displayName": "Rami Aqqad",
      "photoUrl": "https://lh3.googleusercontent.com/a-/AOh14Gj3GtOwapxOqbNzRE9cK3ppCK-KFD1gAWSWHbjECLk=s64",
      "userId": "00979300552972253678"
     },
     "user_tz": -60
    },
    "id": "jW6Qk7X3hRHq",
    "outputId": "77cd971a-136c-4907-ce0f-bf67afb573ee",
    "scrolled": true
   },
   "outputs": [],
   "source": [
    "model.evaluate(x_test, y_test)"
   ]
  },
  {
   "cell_type": "markdown",
   "metadata": {},
   "source": [
    "### Making Individual Predictions"
   ]
  },
  {
   "cell_type": "code",
   "execution_count": null,
   "metadata": {
    "colab": {
     "base_uri": "https://localhost:8080/",
     "height": 283
    },
    "colab_type": "code",
    "executionInfo": {
     "elapsed": 830,
     "status": "ok",
     "timestamp": 1584012912112,
     "user": {
      "displayName": "Rami Aqqad",
      "photoUrl": "https://lh3.googleusercontent.com/a-/AOh14Gj3GtOwapxOqbNzRE9cK3ppCK-KFD1gAWSWHbjECLk=s64",
      "userId": "00979300552972253678"
     },
     "user_tz": -60
    },
    "id": "NslcGlpThCVo",
    "outputId": "1cc548ee-933c-4335-e858-396c96f560f0"
   },
   "outputs": [],
   "source": [
    "image_index = 4444\n",
    "plt.imshow(x_test[image_index].reshape(28, 28),cmap='Greys')\n",
    "pred = model.predict(x_test[image_index].reshape(1, 28, 28, 1))\n",
    "print(pred.argmax())"
   ]
  },
  {
   "cell_type": "code",
   "execution_count": null,
   "metadata": {},
   "outputs": [],
   "source": []
  }
 ],
 "metadata": {
  "colab": {
   "authorship_tag": "ABX9TyP9XHdRnA337Y3fkfwboWOC",
   "name": "Untitled0.ipynb",
   "provenance": []
  },
  "kernelspec": {
   "display_name": "Python 3",
   "language": "python",
   "name": "python3"
  },
  "language_info": {
   "codemirror_mode": {
    "name": "ipython",
    "version": 3
   },
   "file_extension": ".py",
   "mimetype": "text/x-python",
   "name": "python",
   "nbconvert_exporter": "python",
   "pygments_lexer": "ipython3",
   "version": "3.7.3"
  }
 },
 "nbformat": 4,
 "nbformat_minor": 1
}
